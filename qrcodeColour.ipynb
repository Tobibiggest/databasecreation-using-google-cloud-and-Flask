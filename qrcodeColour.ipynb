{
 "cells": [
  {
   "cell_type": "code",
   "execution_count": 4,
   "id": "a0cac01b",
   "metadata": {},
   "outputs": [
    {
     "name": "stdout",
     "output_type": "stream",
     "text": [
      "Collecting qrcodeNote: you may need to restart the kernel to use updated packages.\n",
      "\n",
      "  Obtaining dependency information for qrcode from https://files.pythonhosted.org/packages/24/79/aaf0c1c7214f2632badb2771d770b1500d3d7cbdf2590ae62e721ec50584/qrcode-7.4.2-py3-none-any.whl.metadata\n",
      "  Downloading qrcode-7.4.2-py3-none-any.whl.metadata (17 kB)\n",
      "Requirement already satisfied: typing-extensions in c:\\users\\tbigg\\anaconda3\\lib\\site-packages (from qrcode) (4.7.1)\n",
      "Collecting pypng (from qrcode)\n",
      "  Obtaining dependency information for pypng from https://files.pythonhosted.org/packages/3e/b9/3766cc361d93edb2ce81e2e1f87dd98f314d7d513877a342d31b30741680/pypng-0.20220715.0-py3-none-any.whl.metadata\n",
      "  Downloading pypng-0.20220715.0-py3-none-any.whl.metadata (13 kB)\n",
      "Requirement already satisfied: colorama in c:\\users\\tbigg\\anaconda3\\lib\\site-packages (from qrcode) (0.4.6)\n",
      "Downloading qrcode-7.4.2-py3-none-any.whl (46 kB)\n",
      "   ---------------------------------------- 0.0/46.2 kB ? eta -:--:--\n",
      "   -------- ------------------------------- 10.2/46.2 kB ? eta -:--:--\n",
      "   -------------------------- ------------- 30.7/46.2 kB 435.7 kB/s eta 0:00:01\n",
      "   -------------------------- ------------- 30.7/46.2 kB 435.7 kB/s eta 0:00:01\n",
      "   ----------------------------------- ---- 41.0/46.2 kB 217.9 kB/s eta 0:00:01\n",
      "   ----------------------------------- ---- 41.0/46.2 kB 217.9 kB/s eta 0:00:01\n",
      "   ---------------------------------------- 46.2/46.2 kB 164.2 kB/s eta 0:00:00\n",
      "Downloading pypng-0.20220715.0-py3-none-any.whl (58 kB)\n",
      "   ---------------------------------------- 0.0/58.1 kB ? eta -:--:--\n",
      "   ------- -------------------------------- 10.2/58.1 kB ? eta -:--:--\n",
      "   ------- -------------------------------- 10.2/58.1 kB ? eta -:--:--\n",
      "   --------------------- ------------------ 30.7/58.1 kB 259.2 kB/s eta 0:00:01\n",
      "   --------------------- ------------------ 30.7/58.1 kB 259.2 kB/s eta 0:00:01\n",
      "   ---------------------------- ----------- 41.0/58.1 kB 178.6 kB/s eta 0:00:01\n",
      "   ----------------------------------- ---- 51.2/58.1 kB 187.0 kB/s eta 0:00:01\n",
      "   ----------------------------------- ---- 51.2/58.1 kB 187.0 kB/s eta 0:00:01\n",
      "   ---------------------------------------- 58.1/58.1 kB 145.3 kB/s eta 0:00:00\n",
      "Installing collected packages: pypng, qrcode\n",
      "Successfully installed pypng-0.20220715.0 qrcode-7.4.2\n"
     ]
    }
   ],
   "source": [
    "pip install qrcode"
   ]
  },
  {
   "cell_type": "code",
   "execution_count": 15,
   "id": "f3d1ec76",
   "metadata": {},
   "outputs": [],
   "source": [
    "import qrcode\n",
    "from PIL import Image"
   ]
  },
  {
   "cell_type": "code",
   "execution_count": 16,
   "id": "82e511ea",
   "metadata": {},
   "outputs": [],
   "source": [
    "newComers = \"https://forms.gle/3ENsUL3B1dE38PZZ7\""
   ]
  },
  {
   "cell_type": "code",
   "execution_count": 17,
   "id": "8df9404e",
   "metadata": {},
   "outputs": [],
   "source": [
    "qr = qrcode.QRCode(version =1, box_size =10, border =5)"
   ]
  },
  {
   "cell_type": "code",
   "execution_count": 18,
   "id": "daea93b2",
   "metadata": {},
   "outputs": [],
   "source": [
    "qr.add_data(newComers)"
   ]
  },
  {
   "cell_type": "code",
   "execution_count": 19,
   "id": "4bd6767e",
   "metadata": {},
   "outputs": [],
   "source": [
    "qr.make(fit=True)"
   ]
  },
  {
   "cell_type": "code",
   "execution_count": 20,
   "id": "9301dd78",
   "metadata": {},
   "outputs": [],
   "source": [
    "image = qr.make_image(fill=\"white\", back_color=\"purple\")"
   ]
  },
  {
   "cell_type": "code",
   "execution_count": 21,
   "id": "2d263a6b",
   "metadata": {},
   "outputs": [],
   "source": [
    "image.save(\"NewComers2.png\")"
   ]
  },
  {
   "cell_type": "code",
   "execution_count": null,
   "id": "e3e73074",
   "metadata": {},
   "outputs": [],
   "source": []
  },
  {
   "cell_type": "code",
   "execution_count": null,
   "id": "7bc5443a-2079-45a8-97e9-a494b7c7d122",
   "metadata": {},
   "outputs": [],
   "source": []
  },
  {
   "cell_type": "code",
   "execution_count": null,
   "id": "5af21605-b5c4-4290-9e7a-02e6cb8d88ac",
   "metadata": {},
   "outputs": [],
   "source": []
  },
  {
   "cell_type": "code",
   "execution_count": null,
   "id": "7e59f3f5-9964-4928-8eee-94ffb0d6aee5",
   "metadata": {},
   "outputs": [],
   "source": []
  },
  {
   "cell_type": "code",
   "execution_count": null,
   "id": "c56724c0-cb08-441b-a57f-abfee0e26c72",
   "metadata": {},
   "outputs": [],
   "source": []
  },
  {
   "cell_type": "code",
   "execution_count": null,
   "id": "6f595953-7b04-4303-bf38-19e1d0d63aff",
   "metadata": {},
   "outputs": [],
   "source": []
  },
  {
   "cell_type": "code",
   "execution_count": null,
   "id": "69aa6ade",
   "metadata": {},
   "outputs": [],
   "source": []
  },
  {
   "cell_type": "code",
   "execution_count": null,
   "id": "53d00fef",
   "metadata": {},
   "outputs": [],
   "source": []
  }
 ],
 "metadata": {
  "kernelspec": {
   "display_name": "Python 3 (ipykernel)",
   "language": "python",
   "name": "python3"
  },
  "language_info": {
   "codemirror_mode": {
    "name": "ipython",
    "version": 3
   },
   "file_extension": ".py",
   "mimetype": "text/x-python",
   "name": "python",
   "nbconvert_exporter": "python",
   "pygments_lexer": "ipython3",
   "version": "3.11.5"
  }
 },
 "nbformat": 4,
 "nbformat_minor": 5
}
